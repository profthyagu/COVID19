{
 "cells": [
  {
   "cell_type": "code",
   "execution_count": 1,
   "metadata": {},
   "outputs": [],
   "source": [
    "import numpy as np"
   ]
  },
  {
   "cell_type": "code",
   "execution_count": 10,
   "metadata": {},
   "outputs": [],
   "source": [
    "#### Making Activation Function (sigmoid)\n",
    "def activation(x):\n",
    "    return 1/(1+np.exp(-x))"
   ]
  },
  {
   "cell_type": "code",
   "execution_count": 7,
   "metadata": {},
   "outputs": [
    {
     "data": {
      "text/plain": [
       "0.8807970779778823"
      ]
     },
     "execution_count": 7,
     "metadata": {},
     "output_type": "execute_result"
    }
   ],
   "source": [
    "activation(2)"
   ]
  },
  {
   "cell_type": "code",
   "execution_count": 8,
   "metadata": {},
   "outputs": [
    {
     "data": {
      "text/plain": [
       "0.7310585786300049"
      ]
     },
     "execution_count": 8,
     "metadata": {},
     "output_type": "execute_result"
    }
   ],
   "source": [
    "activation(1)"
   ]
  },
  {
   "cell_type": "code",
   "execution_count": 9,
   "metadata": {},
   "outputs": [
    {
     "data": {
      "text/plain": [
       "0.5"
      ]
     },
     "execution_count": 9,
     "metadata": {},
     "output_type": "execute_result"
    }
   ],
   "source": [
    "activation(0)"
   ]
  },
  {
   "cell_type": "code",
   "execution_count": 11,
   "metadata": {},
   "outputs": [
    {
     "data": {
      "text/plain": [
       "array([[0, 0, 1],\n",
       "       [1, 1, 1],\n",
       "       [1, 0, 1],\n",
       "       [0, 1, 1]])"
      ]
     },
     "execution_count": 11,
     "metadata": {},
     "output_type": "execute_result"
    }
   ],
   "source": [
    "# Creating input samples\n",
    "training_inputs = np.array([[0,0,1],[1,1,1],[1,0,1],[0,1,1]])\n",
    "training_inputs"
   ]
  },
  {
   "cell_type": "code",
   "execution_count": 12,
   "metadata": {},
   "outputs": [
    {
     "data": {
      "text/plain": [
       "array([[0],\n",
       "       [1],\n",
       "       [1],\n",
       "       [0]])"
      ]
     },
     "execution_count": 12,
     "metadata": {},
     "output_type": "execute_result"
    }
   ],
   "source": [
    "## Creating output samples\n",
    "training_outputs = np.array([[0],[1],[1],[0]])\n",
    "training_outputs"
   ]
  },
  {
   "cell_type": "code",
   "execution_count": 23,
   "metadata": {},
   "outputs": [
    {
     "data": {
      "text/plain": [
       "array([[0.5881308 ],\n",
       "       [0.89771373],\n",
       "       [0.89153073]])"
      ]
     },
     "execution_count": 23,
     "metadata": {},
     "output_type": "execute_result"
    }
   ],
   "source": [
    "### weights\n",
    "np.random.seed(20) # To fix the sample \n",
    "weights = np.random.random((3,1))\n",
    "weights"
   ]
  },
  {
   "cell_type": "code",
   "execution_count": 24,
   "metadata": {},
   "outputs": [
    {
     "data": {
      "text/plain": [
       "array([[0.89153073],\n",
       "       [2.37737526],\n",
       "       [1.47966153],\n",
       "       [1.78924446]])"
      ]
     },
     "execution_count": 24,
     "metadata": {},
     "output_type": "execute_result"
    }
   ],
   "source": [
    "input_layer = training_inputs\n",
    "mul = np.dot(input_layer,weights)\n",
    "mul "
   ]
  },
  {
   "cell_type": "code",
   "execution_count": 25,
   "metadata": {},
   "outputs": [
    {
     "data": {
      "text/plain": [
       "array([[0.70920596],\n",
       "       [0.9150857 ],\n",
       "       [0.81452145],\n",
       "       [0.85683462]])"
      ]
     },
     "execution_count": 25,
     "metadata": {},
     "output_type": "execute_result"
    }
   ],
   "source": [
    "outputs = activation(mul)\n",
    "outputs"
   ]
  },
  {
   "cell_type": "code",
   "execution_count": 26,
   "metadata": {},
   "outputs": [
    {
     "data": {
      "text/plain": [
       "array([[1.],\n",
       "       [1.],\n",
       "       [1.],\n",
       "       [1.]])"
      ]
     },
     "execution_count": 26,
     "metadata": {},
     "output_type": "execute_result"
    }
   ],
   "source": [
    "outputs.round()"
   ]
  },
  {
   "cell_type": "code",
   "execution_count": 27,
   "metadata": {},
   "outputs": [
    {
     "data": {
      "text/plain": [
       "(4, 3)"
      ]
     },
     "execution_count": 27,
     "metadata": {},
     "output_type": "execute_result"
    }
   ],
   "source": [
    "input_layer.shape"
   ]
  },
  {
   "cell_type": "code",
   "execution_count": 28,
   "metadata": {},
   "outputs": [
    {
     "data": {
      "text/plain": [
       "(3, 1)"
      ]
     },
     "execution_count": 28,
     "metadata": {},
     "output_type": "execute_result"
    }
   ],
   "source": [
    "weights.shape"
   ]
  },
  {
   "cell_type": "code",
   "execution_count": 29,
   "metadata": {},
   "outputs": [
    {
     "data": {
      "text/plain": [
       "array([[0.70920596],\n",
       "       [0.9150857 ],\n",
       "       [0.81452145],\n",
       "       [0.85683462]])"
      ]
     },
     "execution_count": 29,
     "metadata": {},
     "output_type": "execute_result"
    }
   ],
   "source": [
    "outputs = activation(mul)\n",
    "outputs"
   ]
  },
  {
   "cell_type": "code",
   "execution_count": 30,
   "metadata": {},
   "outputs": [],
   "source": [
    "def gradient(x):\n",
    "    return x*(1-x)"
   ]
  },
  {
   "cell_type": "code",
   "execution_count": 34,
   "metadata": {},
   "outputs": [
    {
     "name": "stdout",
     "output_type": "stream",
     "text": [
      "[[-0.04619472]\n",
      " [ 0.03749091]\n",
      " [ 0.03016401]\n",
      " [-0.03723263]]\n",
      "[[-0.04522421]\n",
      " [ 0.03670719]\n",
      " [ 0.02953897]\n",
      " [-0.03645573]]\n",
      "[[-0.04431077]\n",
      " [ 0.03596942]\n",
      " [ 0.02895052]\n",
      " [-0.0357245 ]]\n",
      "[[-0.04344908]\n",
      " [ 0.03527335]\n",
      " [ 0.02839525]\n",
      " [-0.03503466]]\n",
      "[[-0.04263448]\n",
      " [ 0.03461521]\n",
      " [ 0.02787017]\n",
      " [-0.03438248]]\n",
      "[[-0.04186287]\n",
      " [ 0.03399171]\n",
      " [ 0.02737267]\n",
      " [-0.03376469]]\n",
      "[[-0.04113064]\n",
      " [ 0.03339995]\n",
      " [ 0.02690043]\n",
      " [-0.03317839]]\n",
      "[[-0.04043459]\n",
      " [ 0.03283736]\n",
      " [ 0.0264514 ]\n",
      " [-0.03262102]]\n",
      "[[-0.03977186]\n",
      " [ 0.03230162]\n",
      " [ 0.02602375]\n",
      " [-0.03209028]]\n",
      "[[-0.0391399 ]\n",
      " [ 0.0317907 ]\n",
      " [ 0.02561584]\n",
      " [-0.03158415]]\n",
      "[[-0.03853643]\n",
      " [ 0.03130274]\n",
      " [ 0.02522622]\n",
      " [-0.03110078]]\n",
      "[[-0.03795938]\n",
      " [ 0.0308361 ]\n",
      " [ 0.02485356]\n",
      " [-0.03063854]]\n",
      "[[-0.03740691]\n",
      " [ 0.03038928]\n",
      " [ 0.02449669]\n",
      " [-0.03019595]]\n",
      "[[-0.03687733]\n",
      " [ 0.02996093]\n",
      " [ 0.02415451]\n",
      " [-0.02977165]]\n",
      "[[-0.03636911]\n",
      " [ 0.02954982]\n",
      " [ 0.02382605]\n",
      " [-0.02936443]]\n",
      "[[-0.03588088]\n",
      " [ 0.02915483]\n",
      " [ 0.02351044]\n",
      " [-0.02897319]]\n",
      "[[-0.03541137]\n",
      " [ 0.02877494]\n",
      " [ 0.02320685]\n",
      " [-0.02859691]]\n",
      "[[-0.03495942]\n",
      " [ 0.02840924]\n",
      " [ 0.02291455]\n",
      " [-0.02823466]]\n",
      "[[-0.03452397]\n",
      " [ 0.02805685]\n",
      " [ 0.02263286]\n",
      " [-0.02788562]]\n",
      "[[-0.03410405]\n",
      " [ 0.027717  ]\n",
      " [ 0.02236116]\n",
      " [-0.02754898]]\n",
      "[[-0.03369877]\n",
      " [ 0.02738897]\n",
      " [ 0.02209886]\n",
      " [-0.02722406]]\n",
      "[[-0.03330731]\n",
      " [ 0.0270721 ]\n",
      " [ 0.02184546]\n",
      " [-0.02691017]]\n",
      "[[-0.03292889]\n",
      " [ 0.02676576]\n",
      " [ 0.02160045]\n",
      " [-0.02660672]]\n",
      "[[-0.03256283]\n",
      " [ 0.0264694 ]\n",
      " [ 0.02136339]\n",
      " [-0.02631315]]\n",
      "[[-0.03220847]\n",
      " [ 0.02618249]\n",
      " [ 0.02113385]\n",
      " [-0.02602893]]\n"
     ]
    }
   ],
   "source": [
    "for i in range(500):\n",
    "    input_layer = training_inputs\n",
    "    mul = np.dot(input_layer,weights)\n",
    "    outputs = activation(mul)\n",
    "    error = training_outputs - outputs\n",
    "    adjustments = error *gradient(outputs)\n",
    "    weights += np.dot(input_layer.T,adjustments)\n",
    "    if i%20==0:\n",
    "        print(error)"
   ]
  },
  {
   "cell_type": "code",
   "execution_count": 35,
   "metadata": {},
   "outputs": [
    {
     "data": {
      "text/plain": [
       "array([[ 7.26018188],\n",
       "       [-0.21923359],\n",
       "       [-3.41385698]])"
      ]
     },
     "execution_count": 35,
     "metadata": {},
     "output_type": "execute_result"
    }
   ],
   "source": [
    "weights"
   ]
  },
  {
   "cell_type": "code",
   "execution_count": 36,
   "metadata": {},
   "outputs": [
    {
     "data": {
      "text/plain": [
       "array([[0.],\n",
       "       [1.],\n",
       "       [1.],\n",
       "       [0.]])"
      ]
     },
     "execution_count": 36,
     "metadata": {},
     "output_type": "execute_result"
    }
   ],
   "source": [
    "outputs.round()"
   ]
  },
  {
   "cell_type": "code",
   "execution_count": null,
   "metadata": {},
   "outputs": [],
   "source": []
  }
 ],
 "metadata": {
  "kernelspec": {
   "display_name": "Python 3",
   "language": "python",
   "name": "python3"
  },
  "language_info": {
   "codemirror_mode": {
    "name": "ipython",
    "version": 3
   },
   "file_extension": ".py",
   "mimetype": "text/x-python",
   "name": "python",
   "nbconvert_exporter": "python",
   "pygments_lexer": "ipython3",
   "version": "3.7.3"
  }
 },
 "nbformat": 4,
 "nbformat_minor": 2
}
